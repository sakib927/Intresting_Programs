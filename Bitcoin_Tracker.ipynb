{
  "nbformat": 4,
  "nbformat_minor": 0,
  "metadata": {
    "colab": {
      "provenance": [],
      "authorship_tag": "ABX9TyPsSdfwxxWIPHaiRISbPvv3",
      "include_colab_link": true
    },
    "kernelspec": {
      "name": "python3",
      "display_name": "Python 3"
    },
    "language_info": {
      "name": "python"
    }
  },
  "cells": [
    {
      "cell_type": "markdown",
      "metadata": {
        "id": "view-in-github",
        "colab_type": "text"
      },
      "source": [
        "<a href=\"https://colab.research.google.com/github/sakib927/Intresting_Programs/blob/main/Bitcoin_Tracker.ipynb\" target=\"_parent\"><img src=\"https://colab.research.google.com/assets/colab-badge.svg\" alt=\"Open In Colab\"/></a>"
      ]
    },
    {
      "cell_type": "code",
      "source": [
        "import pandas as pd\n",
        "import seaborn as sns\n",
        "import threading \n",
        "import os \n",
        "from datetime import datetime\n",
        "import pytz\n",
        "import json\n",
        "import requests\n",
        "from datetime import datetime\n",
        "import time\n",
        "import matplotlib.pyplot as plt"
      ],
      "metadata": {
        "id": "KCI_HRUPh8DW"
      },
      "execution_count": 1,
      "outputs": []
    },
    {
      "cell_type": "code",
      "source": [
        "def get_curr_time():\n",
        "  hour_time = datetime.now(pytz.timezone(\"Asia/Kolkata\")).strftime(\"%H\")\n",
        "  min_time = datetime.now(pytz.timezone(\"Asia/Kolkata\")).strftime(\"%M\")\n",
        "  sec_time = datetime.now(pytz.timezone(\"Asia/Kolkata\")).strftime(\"%S\")\n",
        "  l1  = hour_time,min_time,sec_time\n",
        "  return l1"
      ],
      "metadata": {
        "id": "GfmdGkO6noGu"
      },
      "execution_count": 2,
      "outputs": []
    },
    {
      "cell_type": "code",
      "source": [
        "data = pd.DataFrame()\n",
        "data[['Hour_Time','Min_Time','Sec_Time','BTC_Value']] = (0,0,0,0)"
      ],
      "metadata": {
        "id": "M6IUN9kRigOg"
      },
      "execution_count": 3,
      "outputs": []
    },
    {
      "cell_type": "code",
      "execution_count": 4,
      "metadata": {
        "id": "toGuQTS6ndCP"
      },
      "outputs": [],
      "source": [
        "def get_btc_val():\n",
        "  a = 0\n",
        "  currency=\"INR\"\n",
        "  url=(\"https://min-api.cryptocompare.com/data/price?fsym=BTC&tsyms={}\".format(currency.upper()))\n",
        "  response=requests.request(\"GET\",url)\n",
        "  response=json.loads(response.text)\n",
        "  a = (response.values())\n",
        "  a = list(a)\n",
        "  return a[0] "
      ]
    },
    {
      "cell_type": "code",
      "source": [
        "def get_data_to_dataset():\n",
        "  global data\n",
        "  alpha  = {'Hour_Time':get_curr_time()[0],'Min_Time':get_curr_time()[1],'Sec_Time':get_curr_time()[2],'BTC_Value':get_btc_val()}\n",
        "  data=data.append(alpha,ignore_index=True)  "
      ],
      "metadata": {
        "id": "kgMYLnSYjxlV"
      },
      "execution_count": 5,
      "outputs": []
    },
    {
      "cell_type": "code",
      "source": [
        "def update_data():\n",
        "  global data\n",
        "  alpha  = {'Hour_Time':get_curr_time()[0],'Min_Time':get_curr_time()[1],'Sec_Time':get_curr_time()[2],'BTC_Value':get_btc_val()}\n",
        "  data=data.append(alpha,ignore_index=True)  "
      ],
      "metadata": {
        "id": "93HrEnuOkBpY"
      },
      "execution_count": 6,
      "outputs": []
    },
    {
      "cell_type": "code",
      "source": [
        "def get_graph():\n",
        "\n",
        "    sns.lineplot(x = data['Min_Time'].tail(150),y = data['BTC_Value'].tail(150))\n",
        "    plt.show() #ploting graph of last 15 min"
      ],
      "metadata": {
        "id": "fOxDwbsLzjRg"
      },
      "execution_count": 7,
      "outputs": []
    },
    {
      "cell_type": "code",
      "source": [
        "while True:\n",
        "  os.system('cls')\n",
        "  for i in range(10):\n",
        "    update_data()\n",
        "  get_graph()\n",
        "  time.sleep(60)"
      ],
      "metadata": {
        "id": "ESdtgkaVjnEW"
      },
      "execution_count": null,
      "outputs": []
    }
  ]
}