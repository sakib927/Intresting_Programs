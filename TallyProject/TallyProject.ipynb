{
  "nbformat": 4,
  "nbformat_minor": 0,
  "metadata": {
    "colab": {
      "provenance": []
    },
    "kernelspec": {
      "name": "python3",
      "display_name": "Python 3"
    },
    "language_info": {
      "name": "python"
    }
  },
  "cells": [
    {
      "cell_type": "code",
      "source": [
        "from google.colab import drive   #connecting to the google drive\n",
        "drive.mount('/content/drive')"
      ],
      "metadata": {
        "colab": {
          "base_uri": "https://localhost:8080/"
        },
        "id": "C3j5wAi5IMcr",
        "outputId": "aea3d2aa-e421-493a-fc0f-888664209a84"
      },
      "execution_count": 26,
      "outputs": [
        {
          "output_type": "stream",
          "name": "stdout",
          "text": [
            "Drive already mounted at /content/drive; to attempt to forcibly remount, call drive.mount(\"/content/drive\", force_remount=True).\n"
          ]
        }
      ]
    },
    {
      "cell_type": "code",
      "source": [
        "import sqlite3\n",
        "import pandas as pd\n",
        "\n",
        "def create_database(db_var):\n",
        "    connection = sqlite3.connect(db_var)\n",
        "    connection.close()\n",
        "\n",
        "def create_day_book_table(db_var):\n",
        "    connection = sqlite3.connect(db_var)\n",
        "    crsr = connection.cursor()\n",
        "    sql_command = \"\"\"\n",
        "    CREATE TABLE IF NOT EXISTS day_book\n",
        "    (\n",
        "        entry_id INTEGER PRIMARY KEY AUTOINCREMENT,\n",
        "        date DATE,\n",
        "        particulars VARCHAR(20),\n",
        "        vchtype VARCHAR(30),\n",
        "        vhno VARCHAR(30),\n",
        "        debit_amount INT(30) NULL,\n",
        "        credit_amount INT(30) NULL\n",
        "    );\n",
        "    \"\"\"\n",
        "    crsr.execute(sql_command)\n",
        "    connection.commit()\n",
        "    connection.close()\n",
        "\n",
        "def insert_entry(date, particulars, vchtype, vhno, debit_amount=None, credit_amount=None, db_var=None):\n",
        "    connection = sqlite3.connect(db_var)\n",
        "    crsr = connection.cursor()\n",
        "    sql_command = \"\"\"\n",
        "    INSERT INTO day_book (date, particulars, vchtype, vhno, debit_amount, credit_amount)\n",
        "    VALUES (?, ?, ?, ?, ?, ?)\n",
        "    \"\"\"\n",
        "    values = (date, particulars, vchtype, vhno, debit_amount, credit_amount)\n",
        "    crsr.execute(sql_command, values)\n",
        "    connection.commit()\n",
        "    connection.close()\n",
        "\n",
        "\n",
        "def fetch_entries(db_var):\n",
        "    connection = sqlite3.connect(db_var)\n",
        "    cursor = connection.cursor()\n",
        "    cursor.execute(\"SELECT * FROM day_book\")\n",
        "    rows = cursor.fetchall()\n",
        "    connection.close()\n",
        "\n",
        "    entries = []\n",
        "    for row in rows:\n",
        "        entry = {\n",
        "            'entry_id': row[0],\n",
        "            'date': row[1],\n",
        "            'particulars': row[2],\n",
        "            'vchtype': row[3],\n",
        "            'vhno': row[4],\n",
        "            'debit_amount': row[5],\n",
        "            'credit_amount': row[6]\n",
        "        }\n",
        "        entries.append(entry)\n",
        "\n",
        "    return entries\n",
        "\n",
        "def delete_entry(entry_id, db_var):\n",
        "    connection = sqlite3.connect(db_var)\n",
        "    crsr = connection.cursor()\n",
        "    sql_command = \"DELETE FROM day_book WHERE entry_id = ?\"\n",
        "    crsr.execute(sql_command, (entry_id,))\n",
        "    connection.commit()\n",
        "    connection.close()\n"
      ],
      "metadata": {
        "id": "DnA6-kRnnM3A"
      },
      "execution_count": 27,
      "outputs": []
    },
    {
      "cell_type": "code",
      "source": [
        "!pip install flask-ngrok        #installing Flask ngrock"
      ],
      "metadata": {
        "colab": {
          "base_uri": "https://localhost:8080/"
        },
        "id": "1H2AO7VXv_L9",
        "outputId": "28f33fa2-5638-4695-b1a9-c85fe36834a7"
      },
      "execution_count": 28,
      "outputs": [
        {
          "output_type": "stream",
          "name": "stdout",
          "text": [
            "Requirement already satisfied: flask-ngrok in /usr/local/lib/python3.10/dist-packages (0.0.25)\n",
            "Requirement already satisfied: Flask>=0.8 in /usr/local/lib/python3.10/dist-packages (from flask-ngrok) (2.2.5)\n",
            "Requirement already satisfied: requests in /usr/local/lib/python3.10/dist-packages (from flask-ngrok) (2.27.1)\n",
            "Requirement already satisfied: Werkzeug>=2.2.2 in /usr/local/lib/python3.10/dist-packages (from Flask>=0.8->flask-ngrok) (2.3.6)\n",
            "Requirement already satisfied: Jinja2>=3.0 in /usr/local/lib/python3.10/dist-packages (from Flask>=0.8->flask-ngrok) (3.1.2)\n",
            "Requirement already satisfied: itsdangerous>=2.0 in /usr/local/lib/python3.10/dist-packages (from Flask>=0.8->flask-ngrok) (2.1.2)\n",
            "Requirement already satisfied: click>=8.0 in /usr/local/lib/python3.10/dist-packages (from Flask>=0.8->flask-ngrok) (8.1.3)\n",
            "Requirement already satisfied: urllib3<1.27,>=1.21.1 in /usr/local/lib/python3.10/dist-packages (from requests->flask-ngrok) (1.26.16)\n",
            "Requirement already satisfied: certifi>=2017.4.17 in /usr/local/lib/python3.10/dist-packages (from requests->flask-ngrok) (2023.5.7)\n",
            "Requirement already satisfied: charset-normalizer~=2.0.0 in /usr/local/lib/python3.10/dist-packages (from requests->flask-ngrok) (2.0.12)\n",
            "Requirement already satisfied: idna<4,>=2.5 in /usr/local/lib/python3.10/dist-packages (from requests->flask-ngrok) (3.4)\n",
            "Requirement already satisfied: MarkupSafe>=2.0 in /usr/local/lib/python3.10/dist-packages (from Jinja2>=3.0->Flask>=0.8->flask-ngrok) (2.1.3)\n"
          ]
        }
      ]
    },
    {
      "cell_type": "code",
      "source": [
        "! wget https://bin.equinox.io/c/4VmDzA7iaHb/ngrok-stable-linux-amd64.zip\n",
        "! unzip ngrok-stable-linux-amd64.zip\n",
        "! ./ngrok authtoken 2NjAFaec9sHsfPsGJFylrt4AFmy_vDSWbkijbjaB5jfuYtAx"
      ],
      "metadata": {
        "colab": {
          "base_uri": "https://localhost:8080/"
        },
        "id": "MV-A661zwDV8",
        "outputId": "7c75ff2f-1587-4ab0-8aea-ed72fcd19c25"
      },
      "execution_count": 29,
      "outputs": [
        {
          "output_type": "stream",
          "name": "stdout",
          "text": [
            "--2023-07-06 09:14:24--  https://bin.equinox.io/c/4VmDzA7iaHb/ngrok-stable-linux-amd64.zip\n",
            "Resolving bin.equinox.io (bin.equinox.io)... 52.202.168.65, 54.237.133.81, 54.161.241.46, ...\n",
            "Connecting to bin.equinox.io (bin.equinox.io)|52.202.168.65|:443... connected.\n",
            "HTTP request sent, awaiting response... 200 OK\n",
            "Length: 13921656 (13M) [application/octet-stream]\n",
            "Saving to: ‘ngrok-stable-linux-amd64.zip.3’\n",
            "\n",
            "ngrok-stable-linux- 100%[===================>]  13.28M  54.9MB/s    in 0.2s    \n",
            "\n",
            "2023-07-06 09:14:25 (54.9 MB/s) - ‘ngrok-stable-linux-amd64.zip.3’ saved [13921656/13921656]\n",
            "\n",
            "Archive:  ngrok-stable-linux-amd64.zip\n",
            "replace ngrok? [y]es, [n]o, [A]ll, [N]one, [r]ename: n\n",
            "Authtoken saved to configuration file: /root/.ngrok2/ngrok.yml\n"
          ]
        }
      ]
    },
    {
      "cell_type": "code",
      "source": [
        "from flask import Flask, render_template,request,redirect,url_for\n",
        "from flask_ngrok import run_with_ngrok\n",
        "import sqlite3\n",
        "\n",
        "app = Flask(__name__)\n",
        "app = Flask(__name__,template_folder=\"/content/drive/MyDrive/TallyProject\") #creating flask app\n",
        "\n",
        "run_with_ngrok(app)  # Running with ngrok to get a single link to see the local host\n",
        "\n",
        "db_var = \"/content/drive/MyDrive/TallyProject/myTable.db\"  # db location pointer\n",
        "\n",
        "@app.route('/')\n",
        "def tally_entries():\n",
        "    entries = fetch_entries(db_var)\n",
        "\n",
        "    def calculate_total_revenue(entries):\n",
        "        total_revenue = 0\n",
        "        for entry in entries:\n",
        "            debit_amount = entry['debit_amount'] or 0  # If debit_amount is None, use 0 as default\n",
        "            credit_amount = entry['credit_amount'] or 0  # If credit_amount is None, use 0 as default\n",
        "            total_revenue += credit_amount - debit_amount\n",
        "        return total_revenue\n",
        "\n",
        "    def calculate_total_debit(entries):\n",
        "        total_debit = 0\n",
        "        for entry in entries:\n",
        "            debit_amount = entry['debit_amount'] or 0  # If debit_amount is None, use 0 as default\n",
        "            total_debit += debit_amount\n",
        "        return total_debit\n",
        "\n",
        "    def calculate_total_credit(entries):\n",
        "        total_credit = 0\n",
        "        for entry in entries:\n",
        "            credit_amount = entry['credit_amount'] or 0  # If credit_amount is None, use 0 as default\n",
        "            total_credit += credit_amount\n",
        "        return total_credit\n",
        "\n",
        "    total_revenue = calculate_total_revenue(entries)\n",
        "    total_debit = calculate_total_debit(entries)\n",
        "    total_credit = calculate_total_credit(entries)\n",
        "\n",
        "    return render_template('Day_Book.html', entries=entries, total_revenue=total_revenue,\n",
        "                           total_debit=total_debit, total_credit=total_credit)\n",
        "\n",
        "\n",
        "@app.route('/insert_entry', methods=['GET', 'POST'])\n",
        "def insert_entry_route():\n",
        "    if request.method == 'POST':\n",
        "        try:\n",
        "            date = request.form['date']\n",
        "            particulars = request.form['particulars']\n",
        "            vchtype = request.form['vchtype']\n",
        "            vhno = request.form['vhno']\n",
        "            debit_amount = request.form['debit_amount']\n",
        "            credit_amount = request.form['credit_amount']\n",
        "            insert_entry(date, particulars, vchtype, vhno, debit_amount, credit_amount, db_var)\n",
        "            return redirect(url_for('tally_entries'))\n",
        "        except Exception as e:\n",
        "            print(f\"Error occurred during insert operation: {str(e)}\")\n",
        "            return \"Error occurred during insert operation\"\n",
        "    else:\n",
        "        return render_template('insert_entry.html')\n",
        "\n",
        "\n",
        "\n",
        "@app.route('/delete_entry', methods=['GET', 'POST'])\n",
        "def delete_entry_route():\n",
        "    if request.method == 'POST':\n",
        "        entry_id = request.form['entry_id']  # Get the entry_id from the form\n",
        "        delete_entry(entry_id, db_var)\n",
        "        return redirect(url_for('tally_entries'))\n",
        "    else:\n",
        "        return render_template('delete_entry.html')\n",
        "\n",
        "\n",
        "if __name__ == '__main__':\n",
        "    app.run()"
      ],
      "metadata": {
        "colab": {
          "base_uri": "https://localhost:8080/"
        },
        "id": "YxmApBoyvn9V",
        "outputId": "488705cd-9ebc-4df0-dc87-1a520f58af00"
      },
      "execution_count": 31,
      "outputs": [
        {
          "output_type": "stream",
          "name": "stdout",
          "text": [
            " * Serving Flask app '__main__'\n",
            " * Debug mode: off\n"
          ]
        },
        {
          "output_type": "stream",
          "name": "stderr",
          "text": [
            "INFO:werkzeug:\u001b[31m\u001b[1mWARNING: This is a development server. Do not use it in a production deployment. Use a production WSGI server instead.\u001b[0m\n",
            " * Running on http://127.0.0.1:5000\n",
            "INFO:werkzeug:\u001b[33mPress CTRL+C to quit\u001b[0m\n"
          ]
        },
        {
          "output_type": "stream",
          "name": "stdout",
          "text": [
            " * Running on http://37a8-35-231-48-242.ngrok-free.app\n",
            " * Traffic stats available on http://127.0.0.1:4040\n"
          ]
        },
        {
          "output_type": "stream",
          "name": "stderr",
          "text": [
            "INFO:werkzeug:127.0.0.1 - - [06/Jul/2023 09:15:48] \"GET / HTTP/1.1\" 200 -\n",
            "INFO:werkzeug:127.0.0.1 - - [06/Jul/2023 09:15:48] \"\u001b[33mGET /favicon.ico HTTP/1.1\u001b[0m\" 404 -\n",
            "INFO:werkzeug:127.0.0.1 - - [06/Jul/2023 09:16:25] \"GET /insert_entry HTTP/1.1\" 200 -\n",
            "INFO:werkzeug:127.0.0.1 - - [06/Jul/2023 09:16:41] \"\u001b[32mPOST /insert_entry HTTP/1.1\u001b[0m\" 302 -\n",
            "INFO:werkzeug:127.0.0.1 - - [06/Jul/2023 09:16:41] \"GET / HTTP/1.1\" 200 -\n"
          ]
        }
      ]
    }
  ]
}